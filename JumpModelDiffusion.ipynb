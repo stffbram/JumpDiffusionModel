{
  "cells": [
    {
      "cell_type": "markdown",
      "metadata": {
        "id": "a0MefTMgaOdx"
      },
      "source": [
        "###Setting up our Random Number Generator"
      ]
    },
    {
      "cell_type": "code",
      "execution_count": 1,
      "metadata": {
        "colab": {
          "base_uri": "https://localhost:8080/"
        },
        "id": "FSAktldWUdvg",
        "outputId": "03e8b7b3-8474-4a9a-eb39-4182d79b451d"
      },
      "outputs": [
        {
          "name": "stdout",
          "output_type": "stream",
          "text": [
            "Overwriting random_number_gen.pyx\n"
          ]
        }
      ],
      "source": [
        "%%writefile random_number_gen.pyx\n",
        "\n",
        "import numpy as np\n",
        "cimport numpy as np\n",
        "\n",
        "from cpython.mem cimport PyMem_Malloc, PyMem_Free\n",
        "cdef class RandomNumberGen:\n",
        "    cdef unsigned long long mod1, a1, a2, a3, mod2, b1, b2, b3, x0, x1, x2\n",
        "    cdef double multiplicator\n",
        "    cdef bint LHS\n",
        "\n",
        "    def __cinit__(self):\n",
        "        self.mod1 = 2**31 - 1\n",
        "        self.a1 = 0\n",
        "        self.a2 = 63308\n",
        "        self.a3 = -183326\n",
        "        self.mod2 = 2145483479\n",
        "        self.b1 = 86098\n",
        "        self.b2 = 0\n",
        "        self.b3 = -539608\n",
        "        self.x0=17  ## Define Seed Here\n",
        "        self.x1=37  ## Define Seed Here\n",
        "        self.x2=13337 ## Define Seed Here\n",
        "        self.multiplicator=4.656612875245797e-10\n",
        "        self.LHS=True\n",
        "\n",
        "    cpdef double Scrambled_Random(self):\n",
        "        cdef unsigned long long Component1, Component2, Combined, y\n",
        "        Component1 = (self.x2 * self.a1 + self.x1 * self.a2 + self.x0 * self.a3) % self.mod1\n",
        "        Component2 = (self.x2 * self.b1 + self.x1 * self.b2 + self.x0 * self.b3) % self.mod2\n",
        "        Combined = (Component1 - Component2) % self.mod1\n",
        "        if Combined < 0:\n",
        "            Combined += self.mod1\n",
        "        y = Combined\n",
        "        y ^= (y << 17)  # Parentheses to avoid type mismatch\n",
        "        y ^= (y >> 15)  # Parentheses to avoid type mismatch\n",
        "        y ^= (y << 26)  # Parentheses to avoid type mismatch\n",
        "        y = y % self.mod1\n",
        "        self.x2, self.x1, self.x0 = y, self.x2, self.x1\n",
        "\n",
        "        return y*self.multiplicator\n",
        "\n",
        "    cpdef np.ndarray generate_matrix(self, int rows,int cols):\n",
        "        cdef np.ndarray[np.double_t, ndim=2] matrix = np.zeros((rows, cols), dtype=np.double)\n",
        "        cdef Py_ssize_t i, j\n",
        "\n",
        "        for i in range(rows):\n",
        "            for j in range(cols):\n",
        "                matrix[i, j] = self.Scrambled_Random()\n",
        "\n",
        "\n",
        "\n",
        "\n",
        "        return matrix\n",
        "    cpdef np.ndarray inverse_transform(self, np.ndarray input_matrix,np.ndarray CDF_matrix,np.ndarray X_vector):\n",
        "        cdef np.ndarray[np.double_t, ndim=2] matrix = np.zeros((input_matrix.shape[0], input_matrix.shape[1]), dtype=np.double)\n",
        "        cdef Py_ssize_t i, j\n",
        "        cdef double u\n",
        "        for i in range(input_matrix.shape[0]):\n",
        "            for j in range(input_matrix.shape[1]):\n",
        "                u = input_matrix[i, j]\n",
        "                matrix[i, j] = np.interp(u, CDF_matrix, X_vector)\n",
        "\n",
        "        return matrix\n",
        "    cpdef np.ndarray generate_poisson(self,int rows,int cols,double lambda_,bint Antithetic=True):\n",
        "        cdef np.ndarray[np.double_t, ndim=2] matrix = np.zeros((rows, cols), dtype=np.double)\n",
        "        cdef Py_ssize_t  i, j\n",
        "        cdef double comp=np.exp(-lambda_)\n",
        "\n",
        "        cdef double u,u2,k1,k2,comp2,Prob\n",
        "        if Antithetic:\n",
        "            for i in range(rows//2):\n",
        "                for j in range(cols):\n",
        "                    comp2=comp\n",
        "                    Prob=comp\n",
        "                    u=self.Scrambled_Random()\n",
        "                    u2=1-u\n",
        "                    k1=0\n",
        "                    k2=0\n",
        "                    \n",
        "                    while u>comp2:\n",
        "                        k1=k1+1\n",
        "                        Prob=lambda_/k1*Prob\n",
        "                        comp2=comp2+Prob\n",
        "                    comp2=comp\n",
        "                    Prob=comp\n",
        "                    while u2>comp2:  \n",
        "                        \n",
        "                        k2=k2+1\n",
        "                        Prob=lambda_/k2*Prob\n",
        "                        comp2=comp2+Prob\n",
        "                    matrix[int(2*i),j]=k1\n",
        "                    matrix[int(2*i+1),j]=k2\n",
        "\n",
        "        else:\n",
        "            for i in range(rows):\n",
        "                for j in range(cols):\n",
        "                    comp2=comp\n",
        "                    Prob=comp\n",
        "                    u=self.Scrambled_Random()\n",
        "                    k1=0\n",
        "                    while u>comp2:\n",
        "                        k1+=1\n",
        "                        Prob=lambda_/k1*Prob\n",
        "                        comp2=comp2+Prob\n",
        "                    matrix[i,j]=k1\n",
        "        return matrix\n",
        "    cpdef np.ndarray generate_normal(self,int rows, int cols,double loc=0,double scale=0,Antithetic=True):\n",
        "        cdef np.ndarray[np.double_t, ndim=2] matrix = np.zeros((rows, cols), dtype=np.double)\n",
        "        matrix=np.random.normal.ppf(matrix)\n",
        "        matrix=loc*np.ones((rows,cols))+scale*matrix\n",
        "        return matrix\n",
        "\n",
        "\n",
        "    cpdef np.ndarray generate_double_exponential(self,int rows, int cols,double p, double eta1,double eta2,Antithetic=True):\n",
        "        cdef double q=1-p\n",
        "        cdef np.ndarray U,negU,PosSamp,NegSamp,AntPosSamp,AntNegSamp,Ou1,Out2\n",
        "        if Antithetic:\n",
        "            U=self.generate_matrix(rows//2,cols)\n",
        "            PosSamp=(1/eta2)*np.log((1/q)*U)\n",
        "            NegSamp=-(1/eta1)*np.log((1/p)*(np.ones((rows//2,cols))-U))\n",
        "            Out1=np.where(U<p*np.ones((rows//2,cols)),PosSamp,NegSamp)\n",
        "            negU=np.ones((rows//2,cols))-U\n",
        "            AntPosSamp=(1/eta2)*np.log((1/q)*negU)\n",
        "            AntNegSamp=(1/eta1)*np.log((1/p)*(np.ones((rows//2,cols))-negU))\n",
        "            Out2=np.where(negU<p*np.ones((rows//2,cols)),AntPosSamp,AntNegSamp)\n",
        "            return np.concatenate([Out1,Out2])\n",
        "        else:\n",
        "            U=self.generate_matrix(rows,cols)\n",
        "            PosSamp=(1/eta2)*np.log((1/q)*U)\n",
        "            NegSamp=-(1/eta1)*np.log((1/p)*(np.ones((rows,cols))-U))\n",
        "            Out1=np.where(U<p*np.ones((rows,cols)),PosSamp,NegSamp)\n",
        "            return Out1\n"
      ]
    },
    {
      "cell_type": "code",
      "execution_count": 2,
      "metadata": {
        "colab": {
          "base_uri": "https://localhost:8080/"
        },
        "id": "xXVxLqPYUy0k",
        "outputId": "e8211dc6-68df-47cd-9e3f-458af38231e9"
      },
      "outputs": [
        {
          "name": "stderr",
          "output_type": "stream",
          "text": [
            "C:\\Users\\Bram\\AppData\\Local\\Programs\\Python\\Python312\\Lib\\site-packages\\Cython\\Compiler\\Main.py:381: FutureWarning: Cython directive 'language_level' not set, using '3str' for now (Py3). This has changed from earlier releases! File: c:\\Users\\Bram\\JumpDiffusionModel\\random_number_gen.pyx\n",
            "  tree = Parsing.p_module(s, pxd, full_module_name)\n"
          ]
        }
      ],
      "source": [
        "!cython --cplus random_number_gen.pyx"
      ]
    },
    {
      "cell_type": "code",
      "execution_count": 3,
      "metadata": {
        "colab": {
          "base_uri": "https://localhost:8080/"
        },
        "id": "OChf9LYRVGp1",
        "outputId": "716040c1-b551-4a41-8625-8b40d77bd79f"
      },
      "outputs": [
        {
          "name": "stdout",
          "output_type": "stream",
          "text": [
            "Overwriting setup.py\n"
          ]
        }
      ],
      "source": [
        "%%writefile setup.py\n",
        "from setuptools import setup\n",
        "from Cython.Build import cythonize\n",
        "import numpy\n",
        "\n",
        "setup(\n",
        "    ext_modules=cythonize(\"random_number_gen.pyx\"),\n",
        "    include_dirs=[numpy.get_include()]\n",
        ")"
      ]
    },
    {
      "cell_type": "code",
      "execution_count": 4,
      "metadata": {
        "colab": {
          "base_uri": "https://localhost:8080/"
        },
        "id": "9SijRX24VJ5G",
        "outputId": "fcdda9f5-9474-4487-edc0-69211eb47a4c"
      },
      "outputs": [
        {
          "name": "stdout",
          "output_type": "stream",
          "text": [
            "Compiling random_number_gen.pyx because it changed.\n",
            "[1/1] Cythonizing random_number_gen.pyx\n",
            "running build_ext\n",
            "building 'random_number_gen' extension\n",
            "\"C:\\Program Files\\Microsoft Visual Studio\\2022\\Community\\VC\\Tools\\MSVC\\14.39.33519\\bin\\HostX86\\x64\\cl.exe\" /c /nologo /O2 /W3 /GL /DNDEBUG /MD -Ic:\\Users\\Bram\\AppData\\Local\\Programs\\Python\\Python312\\Lib\\site-packages\\numpy\\core\\include -Ic:\\Users\\Bram\\AppData\\Local\\Programs\\Python\\Python312\\include -Ic:\\Users\\Bram\\AppData\\Local\\Programs\\Python\\Python312\\Include \"-IC:\\Program Files\\Microsoft Visual Studio\\2022\\Community\\VC\\Tools\\MSVC\\14.39.33519\\include\" \"-IC:\\Program Files\\Microsoft Visual Studio\\2022\\Community\\VC\\Tools\\MSVC\\14.39.33519\\ATLMFC\\include\" \"-IC:\\Program Files\\Microsoft Visual Studio\\2022\\Community\\VC\\Auxiliary\\VS\\include\" \"-IC:\\Program Files (x86)\\Windows Kits\\10\\include\\10.0.22621.0\\ucrt\" \"-IC:\\Program Files (x86)\\Windows Kits\\10\\\\include\\10.0.22621.0\\\\um\" \"-IC:\\Program Files (x86)\\Windows Kits\\10\\\\include\\10.0.22621.0\\\\shared\" \"-IC:\\Program Files (x86)\\Windows Kits\\10\\\\include\\10.0.22621.0\\\\winrt\" \"-IC:\\Program Files (x86)\\Windows Kits\\10\\\\include\\10.0.22621.0\\\\cppwinrt\" \"-IC:\\Program Files (x86)\\Windows Kits\\NETFXSDK\\4.8\\include\\um\" /Tcrandom_number_gen.c /Fobuild\\temp.win-amd64-cpython-312\\Release\\random_number_gen.obj\n",
            "random_number_gen.c\n",
            "c:\\Users\\Bram\\AppData\\Local\\Programs\\Python\\Python312\\Lib\\site-packages\\numpy\\core\\include\\numpy\\npy_1_7_deprecated_api.h(14) : Warning Msg: Using deprecated NumPy API, disable it with #define NPY_NO_DEPRECATED_API NPY_1_7_API_VERSION\n",
            "\"C:\\Program Files\\Microsoft Visual Studio\\2022\\Community\\VC\\Tools\\MSVC\\14.39.33519\\bin\\HostX86\\x64\\link.exe\" /nologo /INCREMENTAL:NO /LTCG /DLL /MANIFEST:EMBED,ID=2 /MANIFESTUAC:NO /LIBPATH:c:\\Users\\Bram\\AppData\\Local\\Programs\\Python\\Python312\\libs /LIBPATH:c:\\Users\\Bram\\AppData\\Local\\Programs\\Python\\Python312 /LIBPATH:c:\\Users\\Bram\\AppData\\Local\\Programs\\Python\\Python312\\PCbuild\\amd64 \"/LIBPATH:C:\\Program Files\\Microsoft Visual Studio\\2022\\Community\\VC\\Tools\\MSVC\\14.39.33519\\ATLMFC\\lib\\x64\" \"/LIBPATH:C:\\Program Files\\Microsoft Visual Studio\\2022\\Community\\VC\\Tools\\MSVC\\14.39.33519\\lib\\x64\" \"/LIBPATH:C:\\Program Files (x86)\\Windows Kits\\NETFXSDK\\4.8\\lib\\um\\x64\" \"/LIBPATH:C:\\Program Files (x86)\\Windows Kits\\10\\lib\\10.0.22621.0\\ucrt\\x64\" \"/LIBPATH:C:\\Program Files (x86)\\Windows Kits\\10\\\\lib\\10.0.22621.0\\\\um\\x64\" /EXPORT:PyInit_random_number_gen build\\temp.win-amd64-cpython-312\\Release\\random_number_gen.obj /OUT:build\\lib.win-amd64-cpython-312\\random_number_gen.cp312-win_amd64.pyd /IMPLIB:build\\temp.win-amd64-cpython-312\\Release\\random_number_gen.cp312-win_amd64.lib\n",
            "   Cr�ation de la biblioth�que build\\temp.win-amd64-cpython-312\\Release\\random_number_gen.cp312-win_amd64.lib et de l'objet build\\temp.win-amd64-cpython-312\\Release\\random_number_gen.cp312-win_amd64.exp\n",
            "G�n�ration de code en cours\n",
            "Fin de la g�n�ration du code\n",
            "copying build\\lib.win-amd64-cpython-312\\random_number_gen.cp312-win_amd64.pyd -> \n"
          ]
        },
        {
          "name": "stderr",
          "output_type": "stream",
          "text": [
            "c:\\Users\\Bram\\AppData\\Local\\Programs\\Python\\Python312\\Lib\\site-packages\\Cython\\Compiler\\Main.py:381: FutureWarning: Cython directive 'language_level' not set, using '3str' for now (Py3). This has changed from earlier releases! File: c:\\Users\\Bram\\JumpDiffusionModel\\random_number_gen.pyx\n",
            "  tree = Parsing.p_module(s, pxd, full_module_name)\n"
          ]
        }
      ],
      "source": [
        "!python setup.py build_ext --inplace"
      ]
    },
    {
      "cell_type": "markdown",
      "metadata": {},
      "source": [
        "###Comparing RNGs"
      ]
    },
    {
      "cell_type": "code",
      "execution_count": 5,
      "metadata": {
        "id": "qJsZt0WeQ7XT"
      },
      "outputs": [],
      "source": [
        "class RandomNumberGen():\n",
        "    def __init__(self,seed):\n",
        "        self.mod1=2**31-1\n",
        "        self.a1=0\n",
        "        self.a2=63308\n",
        "        self.a3=-183326\n",
        "        self.mod2=2145483479\n",
        "        self.b1=86098\n",
        "        self.b2=0\n",
        "        self.b3=-539608\n",
        "        self.x0,self.x1,self.x2=seed\n",
        "\n",
        "\n",
        "    def Scrambled_Random(self):\n",
        "        Component1=(self.x2*self.a1+self.x1*self.a2+self.x0*self.a3)%self.mod1\n",
        "        Component2=(self.x2*self.b1+self.x1*self.b2+self.x0*self.a3)%self.mod2\n",
        "        Combined=(Component1-Component2)%self.mod1 ##mod1>mod2\n",
        "        if Combined<0:\n",
        "            Combined+=self.mod1\n",
        "        y=Combined\n",
        "        y^=y<<17\n",
        "\n",
        "\n",
        "        y^=y>>15\n",
        "\n",
        "\n",
        "        y^=y<<26\n",
        "\n",
        "        y=y%self.mod1\n",
        "\n",
        "        self.x2,self.x1,self.x0=y,self.x2,self.x1\n",
        "\n",
        "        return y/self.mod1\n",
        "    def Random(self):\n",
        "        Component1=(self.x2*self.a1+self.x1*self.a2+self.x0*self.a3)%self.mod1\n",
        "        Component2=(self.x2*self.b1+self.x1*self.b2+self.x0*self.a3)%self.mod2\n",
        "        Combined=(Component1-Component2)%self.mod1 ##mod1>mod2\n",
        "        if Combined<0:\n",
        "            Combined+=self.mod1\n",
        "        self.x2,self.x1,self.x0=Combined,self.x2,self.x1\n",
        "        return Combined/self.mod1\n",
        "    def LCG(self):\n",
        "        new=(self.x2*self.a2)%self.mod1\n",
        "        self.x2=new\n",
        "        new=new/self.mod1\n",
        "        return new\n"
      ]
    },
    {
      "cell_type": "code",
      "execution_count": 6,
      "metadata": {
        "colab": {
          "base_uri": "https://localhost:8080/"
        },
        "id": "pBO-z0tUSe33",
        "outputId": "234b9080-da19-40d2-90fc-0777618ba807"
      },
      "outputs": [
        {
          "name": "stdout",
          "output_type": "stream",
          "text": [
            "time taken: 0.004969120025634766\n",
            "time taken: 1.5661332607269287\n",
            "time taken: 0.0473332405090332\n"
          ]
        }
      ],
      "source": [
        "import time\n",
        "import numpy as np\n",
        "import random_number_gen\n",
        "RNG2=random_number_gen.RandomNumberGen()\n",
        "RNG=RandomNumberGen((14,17,27))\n",
        "start=time.time()\n",
        "X=np.random.rand(1_000_000)\n",
        "end=time.time()\n",
        "print(\"time taken:\",end-start)\n",
        "start=time.time()\n",
        "X=[RNG.Scrambled_Random() for _ in range(1_000_000)]\n",
        "end=time.time()\n",
        "\n",
        "print(\"time taken:\",end-start)\n",
        "start=time.time()\n",
        "X=RNG2.generate_matrix(1_000_000,1)\n",
        "end=time.time()\n",
        "print(\"time taken:\",end-start)"
      ]
    },
    {
      "cell_type": "code",
      "execution_count": 7,
      "metadata": {
        "colab": {
          "base_uri": "https://localhost:8080/",
          "height": 430
        },
        "id": "2Gmne_c2c786",
        "outputId": "dc45c7e5-668b-47dc-8137-4ad58a657acd"
      },
      "outputs": [
        {
          "data": {
            "image/png": "[encoded data removed]",
            "text/plain": [
              "<Figure size 640x480 with 1 Axes>"
            ]
          },
          "metadata": {},
          "output_type": "display_data"
        }
      ],
      "source": [
        "import matplotlib.pyplot as plt\n",
        "plt.hist(X,bins=200\n",
        "         )\n",
        "plt.show()\n"
      ]
    },
    {
      "cell_type": "code",
      "execution_count": 8,
      "metadata": {},
      "outputs": [
        {
          "data": {
            "image/png": "[encoded data removed]",
            "text/plain": [
              "<Figure size 640x480 with 1 Axes>"
            ]
          },
          "metadata": {},
          "output_type": "display_data"
        },
        {
          "data": {
            "image/png": "[encoded data removed]",
            "text/plain": [
              "<Figure size 640x480 with 1 Axes>"
            ]
          },
          "metadata": {},
          "output_type": "display_data"
        }
      ],
      "source": [
        "import random_number_gen\n",
        "gen=random_number_gen.RandomNumberGen()\n",
        "import numpy as np\n",
        "import numpy as np\n",
        "from scipy.stats import poisson\n",
        "import matplotlib.pyplot as plt\n",
        "m=6\n",
        "sample=gen.generate_normal()\n",
        "import matplotlib.pyplot as plt\n",
        "value,bins,_=plt.hist(sample, bins=75, density=True, alpha=0.5, label='Sample')\n",
        "x = np.arange(0, np.max(sample) + 1)\n",
        "pmf = poisson.pmf(x, mu=m)\n",
        "plt.plot(x, pmf*max(value)/max(pmf), 'r-', label='Poisson Density')\n",
        "plt.xlabel('Value')\n",
        "plt.ylabel('Density')\n",
        "plt.legend()\n",
        "plt.show()\n",
        "\n",
        "plt.hist(sample,bins=200)\n",
        "plt.show()\n"
      ]
    },
    {
      "cell_type": "code",
      "execution_count": null,
      "metadata": {
        "id": "cxfBSUvYYlaW"
      },
      "outputs": [],
      "source": []
    },
    {
      "cell_type": "markdown",
      "metadata": {
        "id": "nj9VQc5GYpTc"
      },
      "source": [
        "###CGMY Characteristic function inversion"
      ]
    },
    {
      "cell_type": "code",
      "execution_count": null,
      "metadata": {
        "colab": {
          "base_uri": "https://localhost:8080/"
        },
        "id": "J6I4_IZsc6TX",
        "outputId": "78b009bf-8928-4ca7-bbb0-f60f164d7b24"
      },
      "outputs": [],
      "source": []
    },
    {
      "cell_type": "code",
      "execution_count": 9,
      "metadata": {
        "colab": {
          "base_uri": "https://localhost:8080/",
          "height": 499
        },
        "id": "0MUmNSp0ldyB",
        "outputId": "64a509b3-5742-4efd-8786-3880b9e29cb7"
      },
      "outputs": [
        {
          "name": "stdout",
          "output_type": "stream",
          "text": [
            "Fourier Inversion Parameters:###########\n",
            "alpha: 1.5060105705854605\n",
            "D: 62.63946549765031\n",
            "L_opt: 24.0\n",
            "h: 0.04540252987314952\n",
            "N: 529.0\n",
            "eta: 0.11841108789725957\n"
          ]
        },
        {
          "data": {
            "image/png": "[encoded data removed]",
            "text/plain": [
              "<Figure size 640x480 with 1 Axes>"
            ]
          },
          "metadata": {},
          "output_type": "display_data"
        },
        {
          "data": {
            "image/png": "[encoded data removed]",
            "text/plain": [
              "<Figure size 640x480 with 1 Axes>"
            ]
          },
          "metadata": {},
          "output_type": "display_data"
        }
      ],
      "source": [
        "\n",
        "from scipy.special import gamma,gammaincc\n",
        "import numpy as np\n",
        "import scipy.optimize as optimize\n",
        "import matplotlib.pyplot as plt\n",
        "import scipy\n",
        "import random_number_gen\n",
        "  # Rest of the code...\n",
        "class CGMY():\n",
        "  def __init__(self, C, G, M, Y, t, error):\n",
        "    self.C = C\n",
        "    self.G = G\n",
        "    self.M = M\n",
        "    if Y == int(Y):\n",
        "      self.Y = Y - 0.03  ##to avoid overflow during gamma function evaluation\n",
        "    else:\n",
        "      self.Y = Y\n",
        "    self.t = t\n",
        "    self.error = error\n",
        "\n",
        "  def characteristic_function(self,u,t,increment=[0,0,0,0]):\n",
        "\n",
        "      C,G,M,Y=np.add([self.C,self.G,self.M,self.Y],increment)\n",
        "      return np.exp(t*C*gamma(-Y)*((M-1j*u)**Y-M**Y+(G+1j*u)**Y-G**Y))\n",
        "\n",
        "  def calculate_K(self,increment=[0,0,0,0]):\n",
        "    C,G,M,Y=np.add([self.C,self.G,self.M,self.Y],increment)\n",
        "    \n",
        "    return -C*gamma(-Y)*(M**Y+G**Y)\n",
        "\n",
        "  def reg_characteristic_function(self,u,t):\n",
        "    if u!=0:\n",
        "      return -(1-np.cos(u*self.D))/(1j*u)*self.characteristic_function(u,t)\n",
        "    else:\n",
        "      return 0\n",
        "\n",
        "  def L_error(self,L,B,b,beta,D,error):\n",
        "\n",
        "    Bounderror=D*B/(np.pi*beta*b**(1/beta))*gammaincc(1/beta,b*(L/2)**beta)-error\n",
        "\n",
        "    return L if Bounderror<0 else np.inf ##if bound is met, return L. Else, return infinity for penalty\n",
        "  def alpha_minimization(self, alpha):\n",
        "    t, error = self.t, self.error\n",
        "    return np.real((2 / alpha) * np.log(\n",
        "      (self.characteristic_function(1j * alpha, t) + self.characteristic_function(-1j * alpha, t)) / (2 * error / 3)))\n",
        "  def L_value(self,b):\n",
        "    res=optimize.minimize_scalar(self.L_error,args=(self.B,b,self.beta,self.D,self.error),bracket=[0, 1000], method='bounded',bounds=(0,35))\n",
        "    return res.x\n",
        "  def calculate_zeta(self, alpha):\n",
        "    C, G, M, Y = self.C, self.G, self.M, self.Y\n",
        "    term1 = -self.t * C * gamma(-Y) * (G ** Y - (G - alpha) ** Y)\n",
        "    term2 = -self.t * C * gamma(-Y) * (M ** Y - (M + alpha) ** Y)\n",
        "    term1 = np.clip(term1, a_min=None, a_max=600)#for numerical stability\n",
        "    term2 = np.clip(term2, a_min=None, a_max=600)#for numerical stability\n",
        "    return np.exp(np.logaddexp(term1, term2))\n",
        "\n",
        "  def calculate_h_from_C(self, C):\n",
        "    X = self.error * 2 * np.pi / (3 * C)\n",
        "    return -2 * np.pi * self.alpha / (np.log(X / (1 + X)))\n",
        "  def calculate_f(self,u,increment=[0,0,0,0]):\n",
        "    C,G,M,Y=np.add([self.C,self.G,self.M,self.Y],increment)\n",
        "    part1=(G**2/u**2+1)**(Y/2)*np.cos(Y*np.arctan(u/G))\n",
        "    part2=(M**2/u**2+1)**(Y/2)*np.cos(Y*np.arctan(u/M))\n",
        "    return gamma(-Y)*(part1+part2)\n",
        "  def abs_char(self,u,alpha):\n",
        "    return np.exp(self.t*self.K+self.t*self.C*np.abs(u)**self.Y*self.calculate_f(u,[0,-alpha,alpha,0]))\n",
        "\n",
        "\n",
        "  def calculate_bound_A_integrals(self, alpha, u_star):\n",
        "    \"\"\"\n",
        "    Calculates the bound A integrals for a given alpha and u_star.\n",
        "\n",
        "    Parameters:\n",
        "    alpha (float): The alpha value.\n",
        "    u_star (float): The u_star value.\n",
        "\n",
        "    Returns:\n",
        "    float: The calculated bound A value.\n",
        "    \"\"\"\n",
        "    stand_incr = [0, -alpha, alpha, 0]\n",
        "    ##for calculating positive alpha integrals and zeta\n",
        "    pos_alpha_K = self.calculate_K(increment=stand_incr)\n",
        "\n",
        "    pos_alpha_int = scipy.integrate.quad(lambda x: self.abs_char(x,alpha),10e-10,u_star)[0]\n",
        "\n",
        "    pos_alpha_upp = np.exp(self.t * pos_alpha_K) / (self.beta * self.b ** (1 / self.beta)) * gammaincc(1 / self.beta,\n",
        "                self.b * u_star ** self.beta)\n",
        "    \n",
        "    pos_alpha_all_int = self.calculate_zeta(alpha) * (pos_alpha_int + pos_alpha_upp)\n",
        "    ##for calculating negative alpha integrals and zeta\n",
        "    neg_incr = [0, alpha, -alpha, 0]\n",
        "    \n",
        "    neg_alpha_K = self.calculate_K(increment=neg_incr)\n",
        "\n",
        "    neg_alpha_int = scipy.integrate.quad(lambda x: self.abs_char(x,-alpha),10e-10,u_star)[0]\n",
        "    \n",
        "    neg_alpha_upp = np.exp(self.t * neg_alpha_K) / (self.beta * self.b ** (1 / self.beta)) * gammaincc(1 / self.beta,\n",
        "                   self.b * u_star ** self.beta)\n",
        "\n",
        "    neg_alpha_all_int = self.calculate_zeta(-alpha) * (neg_alpha_int + neg_alpha_upp)\n",
        "\n",
        "    \n",
        "    all_int = pos_alpha_all_int + neg_alpha_all_int+10e-9 #for numerical stability\n",
        "\n",
        "    #for numerical stability\n",
        "    part1 = np.exp(np.clip(((-self.D * self.alpha / 2+2*(self.D * self.alpha))), a_min=None, a_max=600))\n",
        "\n",
        "    part2 = 2 * np.exp(np.clip((-self.D * self.alpha / 2+ self.D * self.alpha), a_min=None, a_max=600))\n",
        "    part3 = np.exp(-self.D * self.alpha / 2)\n",
        "    \n",
        "    A = 1 / self.alpha * (part1+part2+part3) + all_int\n",
        "    return A \n",
        "\n",
        "  def generate_cdf(self):\n",
        "    \"\"\"\n",
        "    Generate the cumulative distribution function (CDF) for the Jump Diffusion Model.\n",
        "\n",
        "    Parameters:\n",
        "    \n",
        "\n",
        "    Returns:\n",
        "    - x_range (numpy.ndarray): An array of x values.\n",
        "    - M (numpy.ndarray): An array of real values representing the CDF.\n",
        "\n",
        "    \"\"\"\n",
        "    t=self.t\n",
        "    ##Regularization error\n",
        "    alpha_bounds = (0, np.min([self.G, self.M]))\n",
        "    optimization = optimize.minimize_scalar(self.alpha_minimization, 1, bounds=alpha_bounds)\n",
        "    self.alpha = optimization.x\n",
        "    print(\"Fourier Inversion Parameters:###########\")\n",
        "    print(\"alpha:\", self.alpha)\n",
        "    self.D = optimization.fun\n",
        "    print(\"D:\", self.D)\n",
        "    ##Truncating error\n",
        "    self.K = self.calculate_K()\n",
        "    K=self.K\n",
        "    self.beta = self.Y\n",
        "    self.B = np.exp(t * K)\n",
        "\n",
        "    if self.Y > 1:\n",
        "      u_star = max(self.G, self.M) * max(np.tan(np.pi / (2 * self.Y)), -1 / np.tan(self.Y * np.pi / 2))\n",
        "\n",
        "      self.b = -t * self.C * self.calculate_f(np.ceil(u_star))\n",
        "      C = self.calculate_bound_A_integrals(self.alpha, u_star)\n",
        "\n",
        "      h=self.calculate_h_from_C(C)\n",
        "      L_opt = max(self.L_value(self.b), np.ceil(u_star))\n",
        "     \n",
        "    elif self.Y > 0:\n",
        "      b = -t * 2 * self.C * gamma(-self.Y) * np.cos(np.pi * self.Y / 2)\n",
        "      L_opt = self.L_value(b)\n",
        "      A = (2 * np.exp(-self.D * self.alpha / 2) * (np.exp(self.D * self.alpha) + 1) ** 2 * self.B * gamma(\n",
        "        1 / self.beta)) / (self.alpha * self.beta * b ** (1 / self.beta))\n",
        "\n",
        "      h=self.calculate_h_from_C(A)\n",
        "    print(\"L_opt:\", L_opt)\n",
        "    print(\"h:\", h)\n",
        "\n",
        "    N = np.ceil(L_opt / h)\n",
        "    print(\"N:\", N)\n",
        "    eta = self.D / N\n",
        "    print(  \"eta:\", eta)\n",
        "\n",
        "\n",
        "\n",
        "\n",
        "\n",
        "    ###Vectorized Operations for faster computation\n",
        " \n",
        "    u_domain = np.arange(-N/2*h, (N/2)*h, h)\n",
        "    x_range = np.arange(-N/2*eta, (N/2)*eta, eta)\n",
        "\n",
        "    const = 1/(2*np.pi) * h\n",
        "\n",
        "    \n",
        "    reg_char_func_vect = np.vectorize(lambda u: self.reg_characteristic_function(u, t))\n",
        "\n",
        "    # Computing the characteristic values for each u in u_domain\n",
        "    characteristic_values = reg_char_func_vect(u_domain)\n",
        "\n",
        "    # Pre-compute the exponential part using broadcasting\n",
        "    # np.outer effectively creates a matrix where each row corresponds to an element in u_domain and each column to an element in x_range\n",
        "    exp_matrix = np.exp(-1j * np.outer(u_domain, x_range))\n",
        "\n",
        "    # Element-wise multiplication of exp_matrix with characteristic_values (reshaped for broadcasting)\n",
        "    vect = exp_matrix * characteristic_values[:, np.newaxis]\n",
        "\n",
        "    # Compute results by integrating (summing) over the u_domain for each x_range index\n",
        "    res = const * vect\n",
        "    real_res = np.sum(res, axis=0)  # Summing along the 'u_domain' axis\n",
        "\n",
        "    M2 = real_res  # M contains the real parts of the computed values for each x_range index\n",
        "    \n",
        "    M2+=np.ones(len(M2))*0.5\n",
        "    \n",
        "    return x_range,np.real(M2)\n",
        "\n",
        "# Test the code\n",
        "cgmy = CGMY(C=24 , G=10, M=12, Y=1.7, t=65/365, error=10e-7)\n",
        "\n",
        "C=cgmy.generate_cdf()\n",
        "sample_gen=random_number_gen.RandomNumberGen()\n",
        "sample_gen.inverse_transform(sample_gen.generate_matrix(100000,1),C[1],C[0])\n",
        "hist_values,bins,_=plt.hist(sample_gen.inverse_transform(sample_gen.generate_matrix(100000,1),C[1],C[0]),bins=100)\n",
        "Dx=C[0][1]-C[0][0]\n",
        "D=np.diff(C[1])/Dx\n",
        "\n",
        "plt.plot(C[0][1:],D*max(hist_values)/max(D))\n",
        "plt.show()\n",
        "\n",
        "plt.plot(C[0][1:],D)\n",
        "plt.plot(C[0],C[1])\n",
        "\n",
        "plt.show()"
      ]
    },
    {
      "cell_type": "code",
      "execution_count": 10,
      "metadata": {
        "colab": {
          "base_uri": "https://localhost:8080/"
        },
        "id": "lA4t43H1bNKL",
        "outputId": "c970b0b4-36f8-49b4-ae4f-2f6758b2ac72"
      },
      "outputs": [],
      "source": [
        "import numpy as np\n",
        "import matplotlib.pyplot as plt\n",
        "from scipy.stats import norm\n",
        "import random_number_gen\n",
        "gen=random_number_gen.RandomNumberGen()\n",
        "def black_scholes_call(S, K, T, r, sigma):\n",
        "    \"\"\"Calculate the Black-Scholes price of a European call option.\"\"\"\n",
        "    d1 = (np.log(S / K) + (r + 0.5 * sigma ** 2) * T) / (sigma * np.sqrt(T))\n",
        "    d2 = d1 - sigma * np.sqrt(T)\n",
        "    call_price = S * norm.cdf(d1) - K * np.exp(-r * T) * norm.cdf(d2)\n",
        "    return call_price\n",
        "\n",
        "def monte_carlo_call(S, K, T, r, sigma, paths):\n",
        "    \"\"\"Monte Carlo simulation for the European call option price.\"\"\"\n",
        "    dt = T\n",
        "    # Simulating the end stock price\n",
        "    ST = S * np.exp((r - 0.5 * sigma ** 2) * dt + sigma * np.sqrt(dt) * norm.ppf(np.array(gen.generate_matrix(paths,1)) ) )\n",
        "    # Calculating the payoff\n",
        "    payoffs = np.maximum(ST - K, 0)\n",
        "    # Discounting the payoff back to present value\n",
        "    call_price_mc = np.exp(-r * T) * np.mean(payoffs)\n",
        "    return call_price_mc\n",
        "def monte_carlo_call_antithetic(S, K, T, r, sigma, paths):\n",
        "    \"\"\"Monte Carlo simulation for the European call option price.\"\"\"\n",
        "    dt = T\n",
        "    # Simulating the end stock price\n",
        "    sample=norm.ppf(np.array(gen.generate_matrix(paths//2,1)) )\n",
        "    #np.random.standard_normal(paths//2)\n",
        "    sample=np.concatenate([sample,-sample])\n",
        "    ST = S * np.exp((r - 0.5 * sigma ** 2) * dt + sigma * np.sqrt(dt) * sample)\n",
        "    # Calculating the payoff\n",
        "    payoffs = np.maximum(ST - K, 0)\n",
        "    # Discounting the payoff back to present value\n",
        "    call_price_mc = np.exp(-r * T) * np.mean(payoffs)\n",
        "    return call_price_mc\n",
        "\n",
        "def plot_convergence(S, K, T, r, sigma, max_paths, step):\n",
        "    \"\"\"Plot the convergence of the Monte Carlo simulation to the Black-Scholes price.\"\"\"\n",
        "    bs_price = black_scholes_call(S, K, T, r, sigma)\n",
        "    paths_range = range(step, max_paths + step, step)\n",
        "    mc_prices = []\n",
        "\n",
        "    for num_paths in paths_range:\n",
        "        mc_price = monte_carlo_call(S, K, T, r, sigma, num_paths)\n",
        "        mc_prices.append(mc_price)\n",
        "\n",
        "    diff=np.abs(mc_prices-bs_price*np.ones(len(mc_prices)))\n",
        "    # plt.plot(paths_range, diff, label='MC Estimate')\n",
        "\n",
        "    # plt.grid(True)\n",
        "\n",
        "def plot_convergence_antithetic(S, K, T, r, sigma, max_paths, step):\n",
        "    \"\"\"Plot the convergence of the Monte Carlo simulation to the Black-Scholes price.\"\"\"\n",
        "    bs_price = black_scholes_call(S, K, T, r, sigma)\n",
        "    paths_range = range(step, max_paths + step, step)\n",
        "    mc_prices = []\n",
        "\n",
        "    for num_paths in paths_range:\n",
        "        mc_price = monte_carlo_call_antithetic(S, K, T, r, sigma, num_paths)\n",
        "        mc_prices.append(mc_price)\n",
        "\n",
        "    diff=np.abs(mc_prices-bs_price*np.ones(len(mc_prices)))\n",
        "    # plt.plot(paths_range, diff, label='MC Estimate Antithetic')\n",
        "\n",
        "    # plt.xlabel('Number of Paths')\n",
        "    # plt.ylabel('absolute difference')\n",
        "    # plt.title('Convergence of Monte Carlo Estimates to Black-Scholes Price Antithetic')\n",
        "    # plt.legend()\n",
        "    # plt.grid(True)\n",
        "    # plt.show()\n",
        "\n",
        "# Example parameters\n",
        "S = 100  # Stock price\n",
        "K = 100  # Strike price\n",
        "T = 1    # Time to expiration in years\n",
        "r = 0.05 # Risk-free rate\n",
        "sigma = 0.2  # Volatility\n",
        "\n",
        "# Uncomment below line to execute the plotting function\n",
        "%timeit plot_convergence(S, K, T, r, sigma, 100000, 100)\n",
        "%timeit plot_convergence_antithetic(S, K, T, r, sigma, 100000, 100)\n"
      ]
    }
  ],
  "metadata": {
    "colab": {
      "provenance": []
    },
    "kernelspec": {
      "display_name": "Python 3",
      "name": "python3"
    },
    "language_info": {
      "codemirror_mode": {
        "name": "ipython",
        "version": 3
      },
      "file_extension": ".py",
      "mimetype": "text/x-python",
      "name": "python",
      "nbconvert_exporter": "python",
      "pygments_lexer": "ipython3",
      "version": "3.12.1"
    }
  },
  "nbformat": 4,
  "nbformat_minor": 0
}
