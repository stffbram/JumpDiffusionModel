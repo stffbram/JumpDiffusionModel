{
  "nbformat": 4,
  "nbformat_minor": 0,
  "metadata": {
    "colab": {
      "provenance": []
    },
    "kernelspec": {
      "name": "python3",
      "display_name": "Python 3"
    },
    "language_info": {
      "name": "python"
    }
  },
  "cells": [
    {
      "cell_type": "markdown",
      "source": [
        "###Setting up our Random Number Generator"
      ],
      "metadata": {
        "id": "a0MefTMgaOdx"
      }
    },
    {
      "cell_type": "code",
      "source": [
        "%%writefile random_number_gen.pyx\n",
        "# Correct import statement\n",
        "import numpy as np\n",
        "cimport numpy as np\n",
        "#define\n",
        "from cpython.mem cimport PyMem_Malloc, PyMem_Free\n",
        "cdef class RandomNumberGen:\n",
        "    cdef unsigned long long mod1, a1, a2, a3, mod2, b1, b2, b3, x0, x1, x2\n",
        "    cdef double multiplicator\n",
        "\n",
        "\n",
        "    def __cinit__(self):\n",
        "        self.mod1 = 2**31 - 1\n",
        "        self.a1 = 0\n",
        "        self.a2 = 63308\n",
        "        self.a3 = -183326\n",
        "        self.mod2 = 2145483479\n",
        "        self.b1 = 86098\n",
        "        self.b2 = 0\n",
        "        self.b3 = -539608\n",
        "        self.x0=17  ## Define Seed Here\n",
        "        self.x1=37  ## Define Seed Here\n",
        "        self.x2=13337 ## Define Seed Here\n",
        "        self.multiplicator=4.656612875245797e-10\n",
        "\n",
        "\n",
        "    cpdef double Scrambled_Random(self):\n",
        "        cdef unsigned long long Component1, Component2, Combined, y\n",
        "        Component1 = (self.x2 * self.a1 + self.x1 * self.a2 + self.x0 * self.a3) % self.mod1\n",
        "        Component2 = (self.x2 * self.b1 + self.x1 * self.b2 + self.x0 * self.b3) % self.mod2\n",
        "        Combined = (Component1 - Component2) % self.mod1\n",
        "        if Combined < 0:\n",
        "            Combined += self.mod1\n",
        "        y = Combined\n",
        "        y ^= (y << 17)  # Parentheses to avoid type mismatch\n",
        "        y ^= (y >> 15)  # Parentheses to avoid type mismatch\n",
        "        y ^= (y << 26)  # Parentheses to avoid type mismatch\n",
        "        y = y % self.mod1\n",
        "        self.x2, self.x1, self.x0 = y, self.x2, self.x1\n",
        "\n",
        "        return y*self.multiplicator\n",
        "\n",
        "    cpdef np.ndarray generate_matrix(self, int rows,int cols):\n",
        "        cdef np.ndarray[np.double_t, ndim=2] matrix = np.zeros((rows, cols), dtype=np.double)\n",
        "        cdef Py_ssize_t i, j\n",
        "\n",
        "        for i in range(rows):\n",
        "            for j in range(cols):\n",
        "                matrix[i, j] = self.Scrambled_Random()\n",
        "\n",
        "\n",
        "\n",
        "\n",
        "        return matrix"
      ],
      "metadata": {
        "colab": {
          "base_uri": "https://localhost:8080/"
        },
        "id": "FSAktldWUdvg",
        "outputId": "03e8b7b3-8474-4a9a-eb39-4182d79b451d"
      },
      "execution_count": null,
      "outputs": [
        {
          "output_type": "stream",
          "name": "stdout",
          "text": [
            "Writing random_number_gen.pyx\n"
          ]
        }
      ]
    },
    {
      "cell_type": "code",
      "source": [
        "!cython --cplus random_number_gen.pyx"
      ],
      "metadata": {
        "colab": {
          "base_uri": "https://localhost:8080/"
        },
        "id": "xXVxLqPYUy0k",
        "outputId": "e8211dc6-68df-47cd-9e3f-458af38231e9"
      },
      "execution_count": null,
      "outputs": [
        {
          "output_type": "stream",
          "name": "stdout",
          "text": [
            "/usr/local/lib/python3.10/dist-packages/Cython/Compiler/Main.py:381: FutureWarning: Cython directive 'language_level' not set, using '3str' for now (Py3). This has changed from earlier releases! File: /content/random_number_gen.pyx\n",
            "  tree = Parsing.p_module(s, pxd, full_module_name)\n"
          ]
        }
      ]
    },
    {
      "cell_type": "code",
      "source": [
        "%%writefile setup.py\n",
        "from setuptools import setup\n",
        "from Cython.Build import cythonize\n",
        "import numpy\n",
        "\n",
        "setup(\n",
        "    ext_modules=cythonize(\"random_number_gen.pyx\"),\n",
        "    include_dirs=[numpy.get_include()]\n",
        ")"
      ],
      "metadata": {
        "colab": {
          "base_uri": "https://localhost:8080/"
        },
        "id": "OChf9LYRVGp1",
        "outputId": "716040c1-b551-4a41-8625-8b40d77bd79f"
      },
      "execution_count": null,
      "outputs": [
        {
          "output_type": "stream",
          "name": "stdout",
          "text": [
            "Writing setup.py\n"
          ]
        }
      ]
    },
    {
      "cell_type": "code",
      "source": [
        "!python setup.py build_ext --inplace"
      ],
      "metadata": {
        "colab": {
          "base_uri": "https://localhost:8080/"
        },
        "id": "9SijRX24VJ5G",
        "outputId": "fcdda9f5-9474-4487-edc0-69211eb47a4c"
      },
      "execution_count": null,
      "outputs": [
        {
          "output_type": "stream",
          "name": "stdout",
          "text": [
            "Compiling random_number_gen.pyx because it changed.\n",
            "[1/1] Cythonizing random_number_gen.pyx\n",
            "/usr/local/lib/python3.10/dist-packages/Cython/Compiler/Main.py:381: FutureWarning: Cython directive 'language_level' not set, using '3str' for now (Py3). This has changed from earlier releases! File: /content/random_number_gen.pyx\n",
            "  tree = Parsing.p_module(s, pxd, full_module_name)\n",
            "running build_ext\n",
            "building 'random_number_gen' extension\n",
            "creating build\n",
            "creating build/temp.linux-x86_64-cpython-310\n",
            "x86_64-linux-gnu-gcc -Wno-unused-result -Wsign-compare -DNDEBUG -g -fwrapv -O2 -Wall -g -fstack-protector-strong -Wformat -Werror=format-security -g -fwrapv -O2 -fPIC -I/usr/local/lib/python3.10/dist-packages/numpy/core/include -I/usr/include/python3.10 -c random_number_gen.c -o build/temp.linux-x86_64-cpython-310/random_number_gen.o\n",
            "In file included from \u001b[01m\u001b[K/usr/local/lib/python3.10/dist-packages/numpy/core/include/numpy/ndarraytypes.h:1929\u001b[m\u001b[K,\n",
            "                 from \u001b[01m\u001b[K/usr/local/lib/python3.10/dist-packages/numpy/core/include/numpy/ndarrayobject.h:12\u001b[m\u001b[K,\n",
            "                 from \u001b[01m\u001b[K/usr/local/lib/python3.10/dist-packages/numpy/core/include/numpy/arrayobject.h:5\u001b[m\u001b[K,\n",
            "                 from \u001b[01m\u001b[Krandom_number_gen.c:1240\u001b[m\u001b[K:\n",
            "\u001b[01m\u001b[K/usr/local/lib/python3.10/dist-packages/numpy/core/include/numpy/npy_1_7_deprecated_api.h:17:2:\u001b[m\u001b[K \u001b[01;35m\u001b[Kwarning: \u001b[m\u001b[K#warning \"Using deprecated NumPy API, disable it with \" \"#define NPY_NO_DEPRECATED_API NPY_1_7_API_VERSION\" [\u001b[01;35m\u001b[K\u001b]8;;https://gcc.gnu.org/onlinedocs/gcc/Warning-Options.html#index-Wcpp\u0007-Wcpp\u001b]8;;\u0007\u001b[m\u001b[K]\n",
            "   17 | #\u001b[01;35m\u001b[Kwarning\u001b[m\u001b[K \"Using deprecated NumPy API, disable it with \" \\\n",
            "      |  \u001b[01;35m\u001b[K^~~~~~~\u001b[m\u001b[K\n",
            "creating build/lib.linux-x86_64-cpython-310\n",
            "x86_64-linux-gnu-gcc -shared -Wl,-O1 -Wl,-Bsymbolic-functions -Wl,-Bsymbolic-functions -g -fwrapv -O2 build/temp.linux-x86_64-cpython-310/random_number_gen.o -L/usr/lib/x86_64-linux-gnu -o build/lib.linux-x86_64-cpython-310/random_number_gen.cpython-310-x86_64-linux-gnu.so\n",
            "copying build/lib.linux-x86_64-cpython-310/random_number_gen.cpython-310-x86_64-linux-gnu.so -> \n"
          ]
        }
      ]
    },
    {
      "cell_type": "code",
      "source": [
        "class RandomNumberGen():\n",
        "    def __init__(self,seed):\n",
        "        self.mod1=2**31-1\n",
        "        self.a1=0\n",
        "        self.a2=63308\n",
        "        self.a3=-183326\n",
        "        self.mod2=2145483479\n",
        "        self.b1=86098\n",
        "        self.b2=0\n",
        "        self.b3=-539608\n",
        "        self.x0,self.x1,self.x2=seed\n",
        "\n",
        "\n",
        "    def Scrambled_Random(self):\n",
        "        Component1=(self.x2*self.a1+self.x1*self.a2+self.x0*self.a3)%self.mod1\n",
        "        Component2=(self.x2*self.b1+self.x1*self.b2+self.x0*self.a3)%self.mod2\n",
        "        Combined=(Component1-Component2)%self.mod1 ##mod1>mod2\n",
        "        if Combined<0:\n",
        "            Combined+=self.mod1\n",
        "        y=Combined\n",
        "        y^=y<<17\n",
        "\n",
        "\n",
        "        y^=y>>15\n",
        "\n",
        "\n",
        "        y^=y<<26\n",
        "\n",
        "        y=y%self.mod1\n",
        "\n",
        "        self.x2,self.x1,self.x0=y,self.x2,self.x1\n",
        "\n",
        "        return y/self.mod1\n",
        "    def Random(self):\n",
        "        Component1=(self.x2*self.a1+self.x1*self.a2+self.x0*self.a3)%self.mod1\n",
        "        Component2=(self.x2*self.b1+self.x1*self.b2+self.x0*self.a3)%self.mod2\n",
        "        Combined=(Component1-Component2)%self.mod1 ##mod1>mod2\n",
        "        if Combined<0:\n",
        "            Combined+=self.mod1\n",
        "        self.x2,self.x1,self.x0=Combined,self.x2,self.x1\n",
        "        return Combined/self.mod1\n",
        "    def LCG(self):\n",
        "        new=(self.x2*self.a2)%self.mod1\n",
        "        self.x2=new\n",
        "        new=new/self.mod1\n",
        "        return new\n"
      ],
      "metadata": {
        "id": "qJsZt0WeQ7XT"
      },
      "execution_count": null,
      "outputs": []
    },
    {
      "cell_type": "code",
      "source": [
        "import time\n",
        "import numpy as np\n",
        "import random_number_gen\n",
        "RNG2=random_number_gen.RandomNumberGen()\n",
        "RNG=RandomNumberGen((14,17,27))\n",
        "start=time.time()\n",
        "X=np.random.rand(1_000_000)\n",
        "end=time.time()\n",
        "print(\"time taken:\",end-start)\n",
        "start=time.time()\n",
        "X=[RNG.Scrambled_Random() for _ in range(1_000_000)]\n",
        "end=time.time()\n",
        "\n",
        "print(\"time taken:\",end-start)\n",
        "start=time.time()\n",
        "X=RNG2.generate_matrix(1_000_000,1)\n",
        "end=time.time()\n",
        "print(\"time taken:\",end-start)"
      ],
      "metadata": {
        "colab": {
          "base_uri": "https://localhost:8080/"
        },
        "id": "pBO-z0tUSe33",
        "outputId": "234b9080-da19-40d2-90fc-0777618ba807"
      },
      "execution_count": null,
      "outputs": [
        {
          "output_type": "stream",
          "name": "stdout",
          "text": [
            "time taken: 0.020608901977539062\n",
            "time taken: 2.081308126449585\n",
            "time taken: 0.05286002159118652\n"
          ]
        }
      ]
    },
    {
      "cell_type": "code",
      "source": [
        "import matplotlib.pyplot as plt\n",
        "plt.hist(X,bins=200\n",
        "         )\n",
        "plt.show()\n"
      ],
      "metadata": {
        "colab": {
          "base_uri": "https://localhost:8080/",
          "height": 430
        },
        "id": "2Gmne_c2c786",
        "outputId": "dc45c7e5-668b-47dc-8137-4ad58a657acd"
      },
      "execution_count": null,
      "outputs": [
        {
          "output_type": "display_data",
          "data": {
            "text/plain": [
              "<Figure size 640x480 with 1 Axes>"
            ],
            "image/png": "[encoded data removed]"
          },
          "metadata": {}
        }
      ]
    },
    {
      "cell_type": "code",
      "source": [
        "###CGMY Lévy Density\n",
        "from scipy.special import gamma\n",
        "import numpy as np\n",
        "\n",
        "def CGMY_density(u,T,C,G,M,Y):\n",
        "  if u<0:\n",
        "    return C*(np.exp(-G*np.abs(u))/np.abs(u)**(Y+1))\n",
        "  #if u==0:\n",
        "   # u=0.1\n",
        "    #return C*(np.exp(-M*np.abs(u))/np.abs(u)**(Y+1))\n",
        "  else:\n",
        "    return C*(np.exp(-M*np.abs(u))/np.abs(u)**(Y+1))\n",
        "\n",
        "X=[np.real(CGMY_density(x/10000,1,146,12,12,0.1)) for x in range(-5,5)]\n"
      ],
      "metadata": {
        "colab": {
          "base_uri": "https://localhost:8080/"
        },
        "id": "4h_3QbyQdbym",
        "outputId": "2f182d31-c82d-4fe0-b86f-802ada3d2dfb"
      },
      "execution_count": null,
      "outputs": [
        {
          "output_type": "stream",
          "name": "stderr",
          "text": [
            "<ipython-input-58-6f7d67bd3b96>:12: RuntimeWarning: divide by zero encountered in scalar divide\n",
            "  return C*(np.exp(-M*np.abs(u))/np.abs(u)**(Y+1))\n"
          ]
        }
      ]
    },
    {
      "cell_type": "code",
      "source": [
        "import matplotlib.pyplot as plt\n",
        "plt.plot(X)\n",
        "np.trapz(X,dx=1/10000)"
      ],
      "metadata": {
        "colab": {
          "base_uri": "https://localhost:8080/",
          "height": 462
        },
        "id": "B6bh6RmJerC-",
        "outputId": "34a7d632-ef96-4b79-de53-b34766350bf7"
      },
      "execution_count": null,
      "outputs": [
        {
          "output_type": "execute_result",
          "data": {
            "text/plain": [
              "inf"
            ]
          },
          "metadata": {},
          "execution_count": 59
        },
        {
          "output_type": "display_data",
          "data": {
            "text/plain": [
              "<Figure size 640x480 with 1 Axes>"
            ],
            "image/png": "[encoded data removed]"
          },
          "metadata": {}
        }
      ]
    },
    {
      "cell_type": "code",
      "source": [
        "from numpy.fft import fft, ifft\n",
        "def cf_cgmy( u, T, r, lnS, C, G, M, Y, eta):\n",
        "  m = -C * gamma(-Y) * ((M - 1) ** Y - M ** Y + (G + 1) ** Y - G ** Y)\n",
        "  tmp = C * T * gamma(-Y) * ((M - 1j * u) ** Y - M ** Y + (G + 1j * u) ** Y - G ** Y)\n",
        "  return np.exp(tmp)\n",
        "\n",
        "X=[ cf_cgmy(x,0.1, 0.5,0,45,2,2,-6,0) for x in np.linspace(-0.000000005,0.000000005\n",
        "                                                               ,2000)]\n",
        "\n",
        "\n",
        "Y=np.real(np.fft.ifftshift(ifft(X)))\n",
        "print(np.trapz(Y))\n",
        "plt.plot(np.cumsum(Y))"
      ],
      "metadata": {
        "colab": {
          "base_uri": "https://localhost:8080/",
          "height": 465
        },
        "id": "fIvjQN8UEXmB",
        "outputId": "d329e713-0a79-411a-8d0c-cb556e31c45c"
      },
      "execution_count": null,
      "outputs": [
        {
          "output_type": "stream",
          "name": "stdout",
          "text": [
            "0.9999999999999962\n"
          ]
        },
        {
          "output_type": "execute_result",
          "data": {
            "text/plain": [
              "[<matplotlib.lines.Line2D at 0x7e4d2217fd30>]"
            ]
          },
          "metadata": {},
          "execution_count": 78
        },
        {
          "output_type": "display_data",
          "data": {
            "text/plain": [
              "<Figure size 640x480 with 1 Axes>"
            ],
            "image/png": "[encoded data removed]"
          },
          "metadata": {}
        }
      ]
    },
    {
      "cell_type": "code",
      "source": [],
      "metadata": {
        "id": "cxfBSUvYYlaW"
      },
      "execution_count": null,
      "outputs": []
    },
    {
      "cell_type": "markdown",
      "source": [
        "###CGMY Characteristic function inversion"
      ],
      "metadata": {
        "id": "nj9VQc5GYpTc"
      }
    },
    {
      "cell_type": "code",
      "source": [
        "from re import T\n",
        "from scipy.special import gamma,gammaincc,gammainccinv\n",
        "import numpy as np\n",
        "import scipy.optimize as optimize\n",
        "import matplotlib.pyplot as plt\n",
        "class CGMY():\n",
        "  def __init__(self,C,G,M,Y,t,error):\n",
        "    self.C=C\n",
        "    self.G=G\n",
        "    self.M=M\n",
        "    if Y==int(Y):\n",
        "      self.Y=Y+0.01 ##to avoid overflow during gamma function evaluation\n",
        "    else:\n",
        "      self.Y=Y\n",
        "    self.t=t\n",
        "    self.error=error\n",
        "  def characteristic_function(self,u,t,increment=[0,0,0,0]):\n",
        "\n",
        "      C,G,M,Y=np.add([self.C,self.G,self.M,self.Y],increment)  ## for modified char function\n",
        "      return np.exp(t*C*gamma(-Y)*((M-1j*u)**Y-M**Y+(G+1j*u)**Y-G**Y))\n",
        "  def alpha_minimization(self,alpha):\n",
        "    t,error=self.t,self.error\n",
        "    return np.real((2/alpha)*np.log((self.characteristic_function(1j*alpha,t)+self.characteristic_function(-1j*alpha,t))/(2*error/3)))\n",
        "  def L_error(self,L,B,b,beta,D,error):\n",
        "\n",
        "    Bounderror=D*B/(np.pi*beta*b**(1/beta))*gammaincc(1/beta,b*(L/2)**beta)-error\n",
        "\n",
        "    return L if Bounderror<0 else np.inf ##if our bound is below epsilon, return l so we minimize L for computation saving. If it is above epsilon, we assign high value in order to penalize and force the algorithm to go under epsilon\n",
        "\n",
        "  def L_value(self,b):\n",
        "    res=optimize.minimize_scalar(self.L_error,args=(self.B,b,self.beta,self.D,self.error),bracket=[0, 1000], method='bounded',bounds=(0,35))\n",
        "    return res.x\n",
        "\n",
        "  def calculate_K(self,increment=[0,0,0,0]):\n",
        "    C,G,M,Y=np.add([self.C,self.G,self.M,self.Y],increment)\n",
        "    K=-C*gamma(-Y)*(M**Y+G**Y)\n",
        "\n",
        "    return K\n",
        "\n",
        "  def calculate_zeta(self,alpha):\n",
        "\n",
        "    return np.exp(-self.t*self.C*gamma(-self.Y)*(self.G**self.Y-(self.G-alpha)**self.Y+self.M**self.Y-(self.M+alpha)**self.Y))\n",
        "  def calculate_f(self,u,increment=[0,0,0,0]):\n",
        "    C,G,M,Y=np.add([self.C,self.G,self.M,self.Y],increment)\n",
        "    part1=(G**2/u**2+1)**(Y/2)*np.cos(Y*np.arctan(u/G))\n",
        "    part2=(M**2/u**2+1)**(Y/2)*np.cos(Y*np.arctan(u/M))\n",
        "    return gamma(-Y)*(part1+part2)\n",
        "\n",
        "  def calculate_h_from_C(self,C,error):\n",
        "      X=error*2*np.pi/(3*C)\n",
        "      return -2*np.pi*self.alpha/(np.log(X/(1+X)))\n",
        "\n",
        "  def calculate_bound_A_integrals(self,alpha,u_star):\n",
        "      stand_incr=[0,-alpha,alpha,0]\n",
        "      u=np.arange(10e-4,u_star,step=10e-5)\n",
        "      pos_alpha_f_u=[self.calculate_f(x,stand_incr) for x in u]\n",
        "\n",
        "      pos_alpha_K=self.calculate_K(increment=stand_incr)\n",
        "      a=np.exp(self.t*pos_alpha_K)\n",
        "      x = -self.t * self.C * np.abs(u)**self.beta * pos_alpha_f_u\n",
        "      x_clipped = np.clip(x, a_min=None, a_max=600)\n",
        "      print(\"clippos\",x_clipped)\n",
        "      b = np.exp(x_clipped)\n",
        "\n",
        "      #b=np.exp(-self.t*self.C*np.abs(u)**self.beta*pos_alpha_f_u)\n",
        "      pos_alpha_int=np.trapz(a*b,dx=10e-5)\n",
        "\n",
        "      pos_alpha_upp=np.exp(self.t*pos_alpha_K)/(self.beta*self.b**(1/self.beta))*gammaincc(1/self.beta,self.b*u_star**self.beta)\n",
        "\n",
        "      pos_alpha_all_int=self.calculate_zeta(alpha)*(pos_alpha_int+pos_alpha_upp)\n",
        "      neg_incr=[0,alpha,-alpha,0]\n",
        "      neg_alpha_f_u=[self.calculate_f(x,neg_incr) for x in u]\n",
        "\n",
        "      neg_alpha_K=self.calculate_K(increment=neg_incr)\n",
        "      c=-self.t*self.C*np.abs(u)**self.beta*neg_alpha_f_u\n",
        "      c=np.clip(c,None,600)\n",
        "      print(\"clipneg\",c)\n",
        "      neg_alpha_int=np.trapz(np.exp(self.t*neg_alpha_K)*np.exp(c),dx=10e-5)\n",
        "\n",
        "      neg_alpha_upp=np.exp(self.t*neg_alpha_K)/(self.beta*self.b**(1/self.beta))*gammaincc(1/self.beta,self.b*u_star**self.beta)\n",
        "\n",
        "      neg_alpha_all_int=self.calculate_zeta(-alpha)*(neg_alpha_int+neg_alpha_upp)\n",
        "      all_int=pos_alpha_all_int+neg_alpha_all_int\n",
        "      A=1/self.alpha*np.exp(-self.D*self.alpha/2)*(np.exp(self.D*self.alpha)+1)**2*all_int\n",
        "      return A\n",
        "  def generate_cdf(self,error,t):\n",
        "\n",
        "      ##Regularization error\n",
        "      alpha_bounds=(0,np.min([self.G,self.M]))\n",
        "      optimization=optimize.minimize_scalar(self.alpha_minimization,1,bounds=alpha_bounds)\n",
        "      self.alpha=optimization.x\n",
        "      print(\"alpha:\",self.alpha)\n",
        "      self.D=optimization.fun\n",
        "      print(\"D:\",self.D)\n",
        "      ##Truncating error\n",
        "      K=self.calculate_K()\n",
        "\n",
        "      self.beta=self.Y\n",
        "      self.B=np.exp(t*K)\n",
        "\n",
        "\n",
        "      if self.Y>1:\n",
        "\n",
        "        u_star=max(self.G,self.M)*max(np.tan(np.pi/(2*self.Y)),-1/np.tan(self.Y*np.pi/2))\n",
        "        print(\"u_star\",u_star)\n",
        "        self.b=-t*self.C*self.calculate_f(np.ceil(u_star))\n",
        "        A=self.calculate_bound_A_integrals(self.alpha,u_star)\n",
        "        print(\"A:\",A)\n",
        "        print(self.calculate_h_from_C(A,error))\n",
        "        L_opt=max(self.L_value(self.b),np.ceil(u_star))\n",
        "        return L_opt\n",
        "      elif self.Y>0:\n",
        "\n",
        "        b=-t*2*self.C*gamma(-self.Y)*np.cos(np.pi*self.Y/2)\n",
        "\n",
        "        L_opt=self.L_value(b)\n",
        "        A=(2*np.exp(-self.D*self.alpha/2)*(np.exp(self.D*self.alpha)+1)**2*self.B*gamma(1/self.beta))/(self.alpha*self.beta*b**(1/self.beta))\n",
        "        print(\"A:\",A)\n",
        "        print(self.calculate_h_from_C(A,error))\n",
        "        return L_opt\n",
        "      else:\n",
        "          pass\n",
        "\n",
        "      return alpha_value,D_value"
      ],
      "metadata": {
        "id": "jQcwAhx6YuBf"
      },
      "execution_count": null,
      "outputs": []
    },
    {
      "cell_type": "code",
      "source": [
        "M=CGMY(C=74,G=64,M=46,Y=1.2,t=1/52,error=10e-5)\n",
        "M.generate_cdf(10e-5,1/52)"
      ],
      "metadata": {
        "colab": {
          "base_uri": "https://localhost:8080/"
        },
        "id": "J6I4_IZsc6TX",
        "outputId": "78b009bf-8928-4ca7-bbb0-f60f164d7b24"
      },
      "execution_count": null,
      "outputs": [
        {
          "output_type": "stream",
          "name": "stdout",
          "text": [
            "alpha: 11.542215809361512\n",
            "D: 5.716581379300605\n",
            "u_star 238.85125168440817\n",
            "clippos [-1692.90424696 -1692.90424695 -1692.90424693 ...   432.72962394\n",
            "   432.7309467    432.73226946]\n",
            "clipneg [-1721.30135316 -1721.30135315 -1721.30135313 ...   428.72422049\n",
            "   428.72554506   428.72686964]\n",
            "A: 0.0\n",
            "nan\n"
          ]
        },
        {
          "output_type": "stream",
          "name": "stderr",
          "text": [
            "<ipython-input-14-408735ee0a0a>:50: RuntimeWarning: divide by zero encountered in scalar divide\n",
            "  X=error*2*np.pi/(3*C)\n",
            "<ipython-input-14-408735ee0a0a>:51: RuntimeWarning: invalid value encountered in scalar divide\n",
            "  return -2*np.pi*self.alpha/(np.log(X/(1+X)))\n"
          ]
        },
        {
          "output_type": "execute_result",
          "data": {
            "text/plain": [
              "239.0"
            ]
          },
          "metadata": {},
          "execution_count": 19
        }
      ]
    },
    {
      "cell_type": "code",
      "source": [
        "from re import T\n",
        "from scipy.special import gamma,gammaincc,gammainccinv\n",
        "import numpy as np\n",
        "import scipy.optimize as optimize\n",
        "import matplotlib.pyplot as plt\n",
        "import scipy\n",
        "import time\n",
        "  # Rest of the code...\n",
        "class CGMY():\n",
        "  def __init__(self, C, G, M, Y, t, error):\n",
        "    self.C = C\n",
        "    self.G = G\n",
        "    self.M = M\n",
        "    if Y == int(Y):\n",
        "      self.Y = Y + 0.01  ##to avoid overflow during gamma function evaluation\n",
        "    else:\n",
        "      self.Y = Y\n",
        "    self.t = t\n",
        "    self.error = error\n",
        "\n",
        "  def characteristic_function(self,u,t,increment=[0,0,0,0]):\n",
        "\n",
        "      C,G,M,Y=np.add([self.C,self.G,self.M,self.Y],increment)\n",
        "       ## for modified char function\n",
        "      return np.exp(t*C*gamma(-Y)*((M-1j*u)**Y-M**Y+(G+1j*u)**Y-G**Y))\n",
        "\n",
        "  def calculate_K(self,increment=[0,0,0,0]):\n",
        "    C,G,M,Y=np.add([self.C,self.G,self.M,self.Y],increment)\n",
        "    K=-C*gamma(-Y)*(M**Y+G**Y)\n",
        "\n",
        "    return K\n",
        "  def reg_characteristic_function(self,u,t):\n",
        "    if u!=0:\n",
        "      return -(1-np.cos(u*self.D))/(1j*u)*self.characteristic_function(u,t)\n",
        "    else:\n",
        "      return 0\n",
        "\n",
        "  def L_error(self,L,B,b,beta,D,error):\n",
        "\n",
        "    Bounderror=D*B/(np.pi*beta*b**(1/beta))*gammaincc(1/beta,b*(L/2)**beta)-error\n",
        "\n",
        "    return L if Bounderror<0 else np.inf\n",
        "  def alpha_minimization(self, alpha):\n",
        "    t, error = self.t, self.error\n",
        "    return np.real((2 / alpha) * np.log(\n",
        "      (self.characteristic_function(1j * alpha, t) + self.characteristic_function(-1j * alpha, t)) / (2 * error / 3)))\n",
        "  def L_value(self,b):\n",
        "    res=optimize.minimize_scalar(self.L_error,args=(self.B,b,self.beta,self.D,self.error),bracket=[0, 1000], method='bounded',bounds=(0,35))\n",
        "    return res.x\n",
        "  def calculate_zeta(self, alpha):\n",
        "    C, G, M, Y = self.C, self.G, self.M, self.Y\n",
        "    term1 = -self.t * C * gamma(-Y) * (G ** Y - (G - alpha) ** Y)\n",
        "    term2 = -self.t * C * gamma(-Y) * (M ** Y - (M + alpha) ** Y)\n",
        "    term1 = np.clip(term1, a_min=None, a_max=600)\n",
        "    term2 = np.clip(term2, a_min=None, a_max=600)\n",
        "    return np.exp(np.logaddexp(term1, term2))\n",
        "\n",
        "  def calculate_h_from_C(self, C, error):\n",
        "    X = error * 2 * np.pi / (3 * C)\n",
        "    return -2 * np.pi * self.alpha / (np.log(X / (1 + X)))\n",
        "  def calculate_f(self,u,increment=[0,0,0,0]):\n",
        "    C,G,M,Y=np.add([self.C,self.G,self.M,self.Y],increment)\n",
        "    part1=(G**2/u**2+1)**(Y/2)*np.cos(Y*np.arctan(u/G))\n",
        "    part2=(M**2/u**2+1)**(Y/2)*np.cos(Y*np.arctan(u/M))\n",
        "    return gamma(-Y)*(part1+part2)\n",
        "  def abs_char(self,u,alpha):\n",
        "    return np.exp(self.t*self.K+self.t*self.C*np.abs(u)**self.Y*self.calculate_f(u,[0,-alpha,alpha,0]))\n",
        "\n",
        "\n",
        "  def calculate_bound_A_integrals(self, alpha, u_star):\n",
        "    stand_incr = [0, -alpha, alpha, 0]\n",
        "    #u = np.arange(10e-10, u_star, step=10e-5)\n",
        "    # pos_alpha_f_u = [self.calculate_f(x, stand_incr) for x in u]\n",
        "    pos_alpha_K = self.calculate_K(increment=stand_incr)\n",
        "    # a = np.exp(self.t * pos_alpha_K)\n",
        "    # x = -self.t * self.C * np.abs(u) ** self.beta * pos_alpha_f_u\n",
        "    # x_clipped = np.clip(x, a_min=None, a_max=600)\n",
        "    # b = np.exp(x_clipped)\n",
        "    # pos_alpha_int = np.trapz(a * b, dx=10e-5)\n",
        "    pos_alpha_int=scipy.integrate.quad(lambda x: self.abs_char(x,alpha),10e-10,u_star)[0]\n",
        "    pos_alpha_upp = np.exp(self.t * pos_alpha_K) / (self.beta * self.b ** (1 / self.beta)) * gammaincc(1 / self.beta,\n",
        "                               self.b * u_star ** self.beta)\n",
        "    pos_alpha_all_int = self.calculate_zeta(alpha) * (pos_alpha_int + pos_alpha_upp)\n",
        "\n",
        "    neg_incr = [0, alpha, -alpha, 0]\n",
        "    # neg_alpha_f_u = [self.calculate_f(x, neg_incr) for x in u]\n",
        "    neg_alpha_K = self.calculate_K(increment=neg_incr)\n",
        "\n",
        "    # c = -self.t * self.C * np.abs(u) ** self.beta * neg_alpha_f_u\n",
        "    # c=np.clip(c, a_min=None, a_max=100000)\n",
        "    #   # Fix: Clip the values of c between None and 600\n",
        "\n",
        "\n",
        "\n",
        "\n",
        "    neg_alpha_int =scipy.integrate.quad(lambda x: self.abs_char(x,-alpha),10e-10,u_star)[0]\n",
        "    # np.trapz(np.exp(self.t * neg_alpha_K+c), dx=10e-5)\n",
        "    neg_alpha_upp = np.exp(self.t * neg_alpha_K) / (self.beta * self.b ** (1 / self.beta)) * gammaincc(1 / self.beta,\n",
        "                               self.b * u_star ** self.beta)\n",
        "\n",
        "    neg_alpha_all_int = self.calculate_zeta(-alpha) * (neg_alpha_int + neg_alpha_upp)\n",
        "\n",
        "\n",
        "    all_int = pos_alpha_all_int + neg_alpha_all_int+10e-9\n",
        "\n",
        "\n",
        "    part1=np.exp(np.clip(((-self.D * self.alpha / 2+2*(self.D * self.alpha))), a_min=None, a_max=500))\n",
        "\n",
        "    part2 = 2 * np.exp(np.clip((-self.D * self.alpha / 2+ self.D * self.alpha), a_min=None, a_max=400))\n",
        "    part3 = np.exp(-self.D * self.alpha / 2)\n",
        "\n",
        "    A = 1 / self.alpha * (part1+part2+part3) + all_int\n",
        "    return A +10e-5\n",
        "\n",
        "  def generate_cdf(self, error, t):\n",
        "    ##Regularization error\n",
        "    alpha_bounds = (0, np.min([self.G, self.M]))\n",
        "    optimization = optimize.minimize_scalar(self.alpha_minimization, 1, bounds=alpha_bounds)\n",
        "    self.alpha = optimization.x\n",
        "    print(\"alpha:\", self.alpha)\n",
        "    self.D = optimization.fun\n",
        "    print(\"D:\", self.D)\n",
        "    ##Truncating error\n",
        "    self.K = self.calculate_K()\n",
        "    K=self.K\n",
        "    self.beta = self.Y\n",
        "    self.B = np.exp(t * K)\n",
        "\n",
        "    if self.Y > 1:\n",
        "      u_star = max(self.G, self.M) * max(np.tan(np.pi / (2 * self.Y)), -1 / np.tan(self.Y * np.pi / 2))\n",
        "\n",
        "      self.b = -t * self.C * self.calculate_f(np.ceil(u_star))\n",
        "      A = self.calculate_bound_A_integrals(self.alpha, u_star)\n",
        "\n",
        "      h=self.calculate_h_from_C(A,error)\n",
        "      L_opt = max(self.L_value(self.b), np.ceil(u_star))\n",
        "      #return h,L_opt\n",
        "    elif self.Y > 0:\n",
        "      b = -t * 2 * self.C * gamma(-self.Y) * np.cos(np.pi * self.Y / 2)\n",
        "      L_opt = self.L_value(b)\n",
        "      A = (2 * np.exp(-self.D * self.alpha / 2) * (np.exp(self.D * self.alpha) + 1) ** 2 * self.B * gamma(\n",
        "        1 / self.beta)) / (self.alpha * self.beta * b ** (1 / self.beta))\n",
        "\n",
        "      h=self.calculate_h_from_C(A,error)\n",
        "      #return h,L_opt\n",
        "    N = np.ceil(L_opt / h)\n",
        "    print(L_opt)\n",
        "    print(h)\n",
        "    eta = self.D / N\n",
        "    l_range=range(0,int(N))\n",
        "    u_domain=np.arange(-N/2*h,(N/2)*h,h)\n",
        "    x_range=np.arange(-N/2*eta,(N/2)*eta,eta)\n",
        "    # u_domain = (j_range - N / 2*np.ones(N))*h\n",
        "    # x_range = (l_range - N / 2*np.ones(N)) *eta\n",
        "\n",
        "    #jl_matrix=np.multiply(j_range.reshape(len(j_range),1),l_range)\n",
        "    #import pandas as pd\n",
        "    #pd.DataFrame(jl_matrix).to_csv(\"test.csv\")\n",
        "    #jl_matrix = np.array(np.meshgrid(j_range, l_range, indexing='ij')).reshape(2, -1).T\n",
        "    #print(jl_matrix.shape)\n",
        "    # l_element = 1 / (2 * np.pi) * h * np.exp(-1j * u_domain[0] * x_range)\n",
        "\n",
        "    # l_vector = np.exp(-1j * jl_matrix * eta)\n",
        "\n",
        "    # tota_matrix = l_vector*l_element\n",
        "\n",
        "    unique_vector1 = np.exp(-1j * u_domain * x_range[0])\n",
        "    unique_vector2 = np.array([self.reg_characteristic_function(u_j, t) for u_j in u_domain])\n",
        "    #unique_vector = np.multiply(unique_vector1 , unique_vector2)\n",
        "\n",
        "\n",
        "    M=[]\n",
        "\n",
        "    for l in l_range:\n",
        "\n",
        "      const=1/(2*np.pi)*h\n",
        "      vect=np.exp(-1j*u_domain*x_range[int(l)])\n",
        "      #vect=vect* np.exp(-1j * u_domain * x_range[0])\n",
        "\n",
        "      vect=vect*np.array([self.reg_characteristic_function(u_j, t) for u_j in u_domain])\n",
        "      res=const*vect\n",
        "      real_res=sum(vect)\n",
        "      #print(np.imag(sum(vect)),np.real(sum(vect))/100)\n",
        "\n",
        "      M.append(real_res)\n",
        "\n",
        "    M/=M[-1]*2\n",
        "    M+=0.5\n",
        "\n",
        "\n",
        "\n",
        "\n",
        "    # F_d = tota_matrix * unique_vector[:, None]\n",
        "    # F_d = F_d.sum(axis=0)\n",
        "    '''\n",
        "    N=np.ceil(L_opt/h)\n",
        "    j_range=np.arange(0,N)\n",
        "    l_range=np.arange(0,N)\n",
        "    u_domain=(j_range-N/2)*h\n",
        "    eta=self.D/N\n",
        "    x_range=(l_range-N/2)*eta\n",
        "    jl_matrix=np.multiply(j_range.reshape(len(j_range),1),l_range) ##matrix of shape (N,N) for every combi\n",
        "    #jl_matrix = np.array(np.meshgrid(j_range, l_range, indexing='ij')).reshape(2, -1).T\n",
        "    #print(jl_matrix)\n",
        "    l_element=1/(2*np.pi)*h*np.exp(-1j*u_domain[0]*(x_range-x_range[0]))\n",
        "\n",
        "    print(\"shape_l\",l_element.shape)\n",
        "    l_vector=np.exp(-1j*jl_matrix*eta)\n",
        "    print(\"shape_matrix\",l_vector.shape)\n",
        "    tota_matrix=l_element*l_vector\n",
        "    print(\"shape total\",tota_matrix.shape)\n",
        "    unique_vector1=np.exp(-1j*u_domain*x_range[0])\n",
        "    unique_vector2=np.array([self.reg_characteristic_function(u_j,t) for u_j in u_domain])\n",
        "\n",
        "    print(unique_vector1.shape)\n",
        "    print(unique_vector2.shape)\n",
        "    unique_vector=unique_vector1*unique_vector2\n",
        "    unique_vector=unique_vector[:,None]\n",
        "    res=tota_matrix*unique_vector\n",
        "    res=np.real(res.sum(axis=1))\n",
        "    res=res+1/2\n",
        "    '''\n",
        "    # res=F_d+1/2\n",
        "    # #res=np.real(res)\n",
        "    # plt.plot(res)\n",
        "    # plt.show()\n",
        "    return x_range,np.real(M)\n",
        "import numpy as np\n",
        "# Test the code\n",
        "cgmy = CGMY(C=1.7 , G=15, M=15, Y=1.5, t=65/365, error=10e-7)\n",
        "\n",
        "C=cgmy.generate_cdf(error=10e-7, t=0.5)\n",
        "Dx=C[0][1]-C[0][0]\n",
        "D=np.diff(C[1])/Dx\n",
        "plt.plot(C[0][1:],D)\n",
        "plt.plot(C[0],C[1])\n",
        "\n",
        "plt.show()"
      ],
      "metadata": {
        "colab": {
          "base_uri": "https://localhost:8080/",
          "height": 499
        },
        "id": "0MUmNSp0ldyB",
        "outputId": "64a509b3-5742-4efd-8786-3880b9e29cb7"
      },
      "execution_count": null,
      "outputs": [
        {
          "output_type": "stream",
          "name": "stdout",
          "text": [
            "alpha: 9.87039561133522\n",
            "D: 5.842758579478125\n",
            "26.0\n",
            "0.6374356410891359\n"
          ]
        },
        {
          "output_type": "display_data",
          "data": {
            "text/plain": [
              "<Figure size 640x480 with 1 Axes>"
            ],
            "image/png": "[encoded data removed]"
          },
          "metadata": {}
        }
      ]
    },
    {
      "cell_type": "code",
      "source": [
        "import numpy as np\n",
        "import matplotlib.pyplot as plt\n",
        "from scipy.stats import norm\n",
        "import random_number_gen\n",
        "gen=random_number_gen.RandomNumberGen()\n",
        "def black_scholes_call(S, K, T, r, sigma):\n",
        "    \"\"\"Calculate the Black-Scholes price of a European call option.\"\"\"\n",
        "    d1 = (np.log(S / K) + (r + 0.5 * sigma ** 2) * T) / (sigma * np.sqrt(T))\n",
        "    d2 = d1 - sigma * np.sqrt(T)\n",
        "    call_price = S * norm.cdf(d1) - K * np.exp(-r * T) * norm.cdf(d2)\n",
        "    return call_price\n",
        "\n",
        "def monte_carlo_call(S, K, T, r, sigma, paths):\n",
        "    \"\"\"Monte Carlo simulation for the European call option price.\"\"\"\n",
        "    dt = T\n",
        "    # Simulating the end stock price\n",
        "    ST = S * np.exp((r - 0.5 * sigma ** 2) * dt + sigma * np.sqrt(dt) * norm.ppf(np.array(gen.generate_matrix(paths,1)) ) )\n",
        "    # Calculating the payoff\n",
        "    payoffs = np.maximum(ST - K, 0)\n",
        "    # Discounting the payoff back to present value\n",
        "    call_price_mc = np.exp(-r * T) * np.mean(payoffs)\n",
        "    return call_price_mc\n",
        "def monte_carlo_call_antithetic(S, K, T, r, sigma, paths):\n",
        "    \"\"\"Monte Carlo simulation for the European call option price.\"\"\"\n",
        "    dt = T\n",
        "    # Simulating the end stock price\n",
        "    sample=norm.ppf(np.array(gen.generate_matrix(paths//2,1)) )\n",
        "    #np.random.standard_normal(paths//2)\n",
        "    sample=np.concatenate([sample,-sample])\n",
        "    ST = S * np.exp((r - 0.5 * sigma ** 2) * dt + sigma * np.sqrt(dt) * sample)\n",
        "    # Calculating the payoff\n",
        "    payoffs = np.maximum(ST - K, 0)\n",
        "    # Discounting the payoff back to present value\n",
        "    call_price_mc = np.exp(-r * T) * np.mean(payoffs)\n",
        "    return call_price_mc\n",
        "\n",
        "def plot_convergence(S, K, T, r, sigma, max_paths, step):\n",
        "    \"\"\"Plot the convergence of the Monte Carlo simulation to the Black-Scholes price.\"\"\"\n",
        "    bs_price = black_scholes_call(S, K, T, r, sigma)\n",
        "    paths_range = range(step, max_paths + step, step)\n",
        "    mc_prices = []\n",
        "\n",
        "    for num_paths in paths_range:\n",
        "        mc_price = monte_carlo_call(S, K, T, r, sigma, num_paths)\n",
        "        mc_prices.append(mc_price)\n",
        "\n",
        "    diff=np.abs(mc_prices-bs_price*np.ones(len(mc_prices)))\n",
        "    # plt.plot(paths_range, diff, label='MC Estimate')\n",
        "\n",
        "    # plt.grid(True)\n",
        "\n",
        "def plot_convergence_antithetic(S, K, T, r, sigma, max_paths, step):\n",
        "    \"\"\"Plot the convergence of the Monte Carlo simulation to the Black-Scholes price.\"\"\"\n",
        "    bs_price = black_scholes_call(S, K, T, r, sigma)\n",
        "    paths_range = range(step, max_paths + step, step)\n",
        "    mc_prices = []\n",
        "\n",
        "    for num_paths in paths_range:\n",
        "        mc_price = monte_carlo_call_antithetic(S, K, T, r, sigma, num_paths)\n",
        "        mc_prices.append(mc_price)\n",
        "\n",
        "    diff=np.abs(mc_prices-bs_price*np.ones(len(mc_prices)))\n",
        "    # plt.plot(paths_range, diff, label='MC Estimate Antithetic')\n",
        "\n",
        "    # plt.xlabel('Number of Paths')\n",
        "    # plt.ylabel('absolute difference')\n",
        "    # plt.title('Convergence of Monte Carlo Estimates to Black-Scholes Price Antithetic')\n",
        "    # plt.legend()\n",
        "    # plt.grid(True)\n",
        "    # plt.show()\n",
        "\n",
        "# Example parameters\n",
        "S = 100  # Stock price\n",
        "K = 100  # Strike price\n",
        "T = 1    # Time to expiration in years\n",
        "r = 0.05 # Risk-free rate\n",
        "sigma = 0.2  # Volatility\n",
        "\n",
        "# Uncomment below line to execute the plotting function\n",
        "%timeit plot_convergence(S, K, T, r, sigma, 100000, 100)\n",
        "%timeit plot_convergence_antithetic(S, K, T, r, sigma, 100000, 100)\n"
      ],
      "metadata": {
        "id": "lA4t43H1bNKL",
        "colab": {
          "base_uri": "https://localhost:8080/"
        },
        "outputId": "c970b0b4-36f8-49b4-ae4f-2f6758b2ac72"
      },
      "execution_count": null,
      "outputs": [
        {
          "output_type": "stream",
          "name": "stdout",
          "text": [
            "6.53 s ± 379 ms per loop (mean ± std. dev. of 7 runs, 1 loop each)\n",
            "3.78 s ± 367 ms per loop (mean ± std. dev. of 7 runs, 1 loop each)\n"
          ]
        }
      ]
    }
  ]
}